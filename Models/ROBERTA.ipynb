{
  "nbformat": 4,
  "nbformat_minor": 0,
  "metadata": {
    "colab": {
      "provenance": []
    },
    "kernelspec": {
      "name": "python3",
      "display_name": "Python 3"
    },
    "language_info": {
      "name": "python"
    }
  },
  "cells": [
    {
      "cell_type": "code",
      "source": [
        "from transformers import AutoTokenizer, RobertaForQuestionAnswering\n",
        "import torch\n",
        "\n",
        "tokenizer = AutoTokenizer.from_pretrained(\"deepset/roberta-base-squad2\")\n",
        "model = RobertaForQuestionAnswering.from_pretrained(\"deepset/roberta-base-squad2\")\n",
        "\n",
        "context = \"Claude is a large language model developed by Anthropic, designed to be safe and interpretable.\"\n",
        "question = \"Who developed Claude?\"\n",
        "\n",
        "\n",
        "inputs = tokenizer(question, context, return_tensors=\"pt\")\n",
        "with torch.no_grad():\n",
        "    outputs = model(**inputs)\n",
        "\n",
        "answer_start_index = outputs.start_logits.argmax()\n",
        "answer_end_index = outputs.end_logits.argmax()\n",
        "\n",
        "predict_answer_tokens = inputs.input_ids[0, answer_start_index : answer_end_index + 1]\n",
        "answer = tokenizer.decode(predict_answer_tokens, skip_special_tokens=True)\n",
        "\n",
        "print(f\"Question: {question}\\nAnswer: {answer}\")\n",
        "\n",
        "# target is \"nice puppet\"\n",
        "target_start_index = torch.tensor([14])\n",
        "target_end_index = torch.tensor([15])\n",
        "\n",
        "outputs = model(**inputs, start_positions=target_start_index, end_positions=target_end_index)\n",
        "loss = outputs.loss\n",
        "# round(loss.item(), 2)"
      ],
      "metadata": {
        "id": "Z_KF1QoPpC0R",
        "colab": {
          "base_uri": "https://localhost:8080/"
        },
        "outputId": "06979ed0-54f3-4d51-f54f-de195f41ac76"
      },
      "execution_count": 9,
      "outputs": [
        {
          "output_type": "stream",
          "name": "stdout",
          "text": [
            "Question: Who developed Claude?\n",
            "Answer:  Anthropic\n"
          ]
        }
      ]
    },
    {
      "cell_type": "code",
      "source": [],
      "metadata": {
        "id": "sSkskYbcvd3d"
      },
      "execution_count": null,
      "outputs": []
    }
  ]
}