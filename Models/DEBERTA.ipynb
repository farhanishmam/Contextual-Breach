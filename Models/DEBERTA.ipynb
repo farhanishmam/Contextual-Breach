{
  "nbformat": 4,
  "nbformat_minor": 0,
  "metadata": {
    "colab": {
      "provenance": [],
      "gpuType": "T4"
    },
    "kernelspec": {
      "name": "python3",
      "display_name": "Python 3"
    },
    "language_info": {
      "name": "python"
    },
    "accelerator": "GPU"
  },
  "cells": [
    {
      "cell_type": "markdown",
      "source": [
        "# ROBERTA"
      ],
      "metadata": {
        "id": "JVzxmhbTqbi-"
      }
    },
    {
      "cell_type": "code",
      "source": [
        "from transformers import AutoModelForQuestionAnswering, AutoTokenizer, pipeline\n",
        "\n",
        "model_name = \"deepset/roberta-base-squad2\"\n",
        "\n",
        "# a) Get predictions\n",
        "nlp = pipeline('question-answering', model=model_name, tokenizer=model_name)\n",
        "QA_input = {\n",
        "    'question': 'Who developed Claude?',\n",
        "    'context': 'Claude is a large language model developed by Anthropic, designed to be safe and interpretable.'\n",
        "}\n",
        "res = nlp(QA_input)\n",
        "\n",
        "# b) Load model & tokenizer\n",
        "model = AutoModelForQuestionAnswering.from_pretrained(model_name)\n",
        "tokenizer = AutoTokenizer.from_pretrained(model_name)\n",
        "print(res)"
      ],
      "metadata": {
        "id": "Z_KF1QoPpC0R",
        "colab": {
          "base_uri": "https://localhost:8080/"
        },
        "outputId": "cd74e92a-39aa-4937-b4d6-1422bcee4248"
      },
      "execution_count": null,
      "outputs": [
        {
          "output_type": "stream",
          "name": "stdout",
          "text": [
            "{'score': 0.9834102392196655, 'start': 46, 'end': 55, 'answer': 'Anthropic'}\n"
          ]
        }
      ]
    },
    {
      "cell_type": "markdown",
      "source": [
        "# DEBERTA"
      ],
      "metadata": {
        "id": "Dss2Vh2Jqki7"
      }
    },
    {
      "cell_type": "markdown",
      "source": [
        "## Base"
      ],
      "metadata": {
        "id": "jX0FZI1Gq8qn"
      }
    },
    {
      "cell_type": "code",
      "source": [
        "from transformers import AutoModelForQuestionAnswering, AutoTokenizer, pipeline\n",
        "model_name = \"deepset/deberta-v3-base-squad2\"\n",
        "# a) Get predictions\n",
        "nlp = pipeline('question-answering', model=model_name, tokenizer=model_name)\n",
        "QA_input = {\n",
        "    'question': 'Who developed Claude?',\n",
        "    'context': 'Claude is a large language model developed by Anthropic, designed to be safe and interpretable.'\n",
        "}\n",
        "res = nlp(QA_input)\n",
        "# b) Load model & tokenizer\n",
        "model = AutoModelForQuestionAnswering.from_pretrained(model_name)\n",
        "tokenizer = AutoTokenizer.from_pretrained(model_name)\n",
        "print(res)"
      ],
      "metadata": {
        "colab": {
          "base_uri": "https://localhost:8080/"
        },
        "id": "kOLEorzXq730",
        "outputId": "c5de265e-8820-4cfb-89ea-5642944faab0"
      },
      "execution_count": null,
      "outputs": [
        {
          "output_type": "stream",
          "name": "stdout",
          "text": [
            "{'score': 0.9978303909301758, 'start': 45, 'end': 56, 'answer': ' Anthropic,'}\n"
          ]
        }
      ]
    },
    {
      "cell_type": "markdown",
      "source": [
        "## Large"
      ],
      "metadata": {
        "id": "mX9F1a0oq_NH"
      }
    },
    {
      "cell_type": "code",
      "source": [
        "from transformers import AutoModelForQuestionAnswering, AutoTokenizer, pipeline\n",
        "\n",
        "model_name = \"deepset/deberta-v3-large-squad2\"\n",
        "\n",
        "# a) Get predictions\n",
        "nlp = pipeline('question-answering', model=model_name, tokenizer=model_name)\n",
        "QA_input = {\n",
        "    'question': 'Who developed Claude?',\n",
        "    'context': 'Claude is a large language model developed by Anthropic, designed to be safe and interpretable.'\n",
        "}\n",
        "res = nlp(QA_input)\n",
        "\n",
        "# b) Load model & tokenizer\n",
        "model = AutoModelForQuestionAnswering.from_pretrained(model_name)\n",
        "tokenizer = AutoTokenizer.from_pretrained(model_name)\n",
        "print(res)"
      ],
      "metadata": {
        "colab": {
          "base_uri": "https://localhost:8080/"
        },
        "id": "UYYj8jQdp_rJ",
        "outputId": "4cd9f074-3adb-4c5a-e0ec-9515afaaca44"
      },
      "execution_count": null,
      "outputs": [
        {
          "output_type": "stream",
          "name": "stdout",
          "text": [
            "{'score': 0.9868751168251038, 'start': 45, 'end': 56, 'answer': ' Anthropic,'}\n"
          ]
        }
      ]
    }
  ]
}