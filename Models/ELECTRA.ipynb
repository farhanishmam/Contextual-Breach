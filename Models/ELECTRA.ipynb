{
  "nbformat": 4,
  "nbformat_minor": 0,
  "metadata": {
    "colab": {
      "provenance": [],
      "gpuType": "T4"
    },
    "kernelspec": {
      "name": "python3",
      "display_name": "Python 3"
    },
    "language_info": {
      "name": "python"
    },
    "accelerator": "GPU"
  },
  "cells": [
    {
      "cell_type": "markdown",
      "source": [
        "# ELECTRA"
      ],
      "metadata": {
        "id": "Dss2Vh2Jqki7"
      }
    },
    {
      "cell_type": "code",
      "source": [
        "from transformers import AutoModelForQuestionAnswering, AutoTokenizer, pipeline\n",
        "\n",
        "model_name = \"deepset/electra-base-squad2\"\n",
        "\n",
        "# a) Get predictions\n",
        "nlp = pipeline('question-answering', model=model_name, tokenizer=model_name)\n",
        "\n",
        "QA_input = {\n",
        "    'question': 'Who developed Claude?',\n",
        "    'context': 'Claude is a large language model developed by Anthropic, designed to be safe and interpretable.'\n",
        "}\n",
        "\n",
        "res = nlp(QA_input)\n",
        "\n",
        "# b) Load model & tokenizer\n",
        "model = AutoModelForQuestionAnswering.from_pretrained(model_name)\n",
        "tokenizer = AutoTokenizer.from_pretrained(model_name)\n",
        "\n",
        "print(res)"
      ],
      "metadata": {
        "id": "w6Fhy-ZJufWS",
        "colab": {
          "base_uri": "https://localhost:8080/"
        },
        "outputId": "fed59802-3adb-412a-eace-5aae021fd324"
      },
      "execution_count": null,
      "outputs": [
        {
          "output_type": "stream",
          "name": "stdout",
          "text": [
            "{'score': 0.9999727010726929, 'start': 46, 'end': 55, 'answer': 'Anthropic'}\n"
          ]
        }
      ]
    }
  ]
}